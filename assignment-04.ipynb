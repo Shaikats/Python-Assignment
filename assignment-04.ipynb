{
 "cells": [
  {
   "cell_type": "markdown",
   "metadata": {},
   "source": [
    "## **ID: 2215151034**"
   ]
  },
  {
   "cell_type": "markdown",
   "metadata": {},
   "source": [
    "\n",
    "<a href=\"https://github.com/Shaikats/Python-Assignment\" target=\"_blank\" \n",
    "   style=\"display: inline-block; padding: 12px 24px; font-size: 18px; font-weight: bold;\n",
    "          color: white; background-color: #007BFF; text-decoration: none; \n",
    "          border-radius: 8px; transition: all 0.3s ease;\">\n",
    "    🔗 View README & Files\n",
    "</a>\n",
    "\n"
   ]
  },
  {
   "cell_type": "markdown",
   "metadata": {},
   "source": [
    "## **Task 1: Generate 50 values from a normal distribution (Mean = μ1, Std = σ1)**\n"
   ]
  },
  {
   "cell_type": "code",
   "execution_count": 8,
   "metadata": {},
   "outputs": [
    {
     "name": "stdout",
     "output_type": "stream",
     "text": [
      "Task 1 - Generated Sample 1:\n",
      "Mean: 56.62, Standard Deviation: 14.01\n",
      "Generated Data: [67.4507123  57.92603548 69.71532807 82.84544785 56.48769938 56.48794565\n",
      " 83.68819223 71.51152094 52.95788421 68.13840065 53.04873461 53.0140537\n",
      " 63.62943407 31.30079633 34.12623251 51.56568706 44.80753319 64.71370999\n",
      " 46.37963887 38.81544448 81.98473153 56.61335549 61.01292307 38.62877721\n",
      " 51.83425913 61.66383885 42.73509634 65.63547028 50.99041965 55.62459375\n",
      " 50.97440082 87.78417277 59.79754163 44.13433607 72.33817368 41.68734525\n",
      " 63.13295393 30.60494814 40.07720927 62.95291854 71.0769987  62.57052422\n",
      " 58.26527576 55.48344457 37.82217014 49.20233687 53.09041844 75.85683339\n",
      " 65.15427434 33.55439767]\n"
     ]
    }
   ],
   "source": [
    "import numpy as np\n",
    "\n",
    "# Set seed for reproducibility\n",
    "np.random.seed(42)\n",
    "\n",
    "# Generate 50 random values from a normal distribution with mean=60, std=15\n",
    "mu1, sigma1 = 60, 15\n",
    "data1 = np.random.normal(mu1, sigma1, 50)\n",
    "\n",
    "# Print the generated sample\n",
    "print(\"Task 1 - Generated Sample 1:\")\n",
    "print(f\"Mean: {np.mean(data1):.2f}, Standard Deviation: {np.std(data1, ddof=1):.2f}\")\n",
    "print(f\"Generated Data: {data1}\")"
   ]
  },
  {
   "cell_type": "markdown",
   "metadata": {},
   "source": [
    "## **Task 2: Generate 50 values from a normal distribution (Mean = μ2, Std = σ2)**\n"
   ]
  },
  {
   "cell_type": "code",
   "execution_count": 9,
   "metadata": {},
   "outputs": [
    {
     "name": "stdout",
     "output_type": "stream",
     "text": [
      "\n",
      "Task 2 - Generated Sample 2:\n",
      "Mean: 65.32, Standard Deviation: 15.74\n",
      "Generated Data: [70.83351145 58.06851895 52.81540399 76.0101732  83.5579914  81.76304214\n",
      " 49.89408458 59.43417723 70.96274177 82.55981229 56.37486372 61.65813842\n",
      " 45.08597047 43.46828077 79.6254648  89.41232051 63.70381781 83.06359216\n",
      " 71.50944845 53.38784442 71.5051209  92.6846582  64.3551313  93.1635858\n",
      " 17.84458813 79.79424508 66.56684723 59.61786769 66.65169398 29.22375954\n",
      " 61.04590602 71.42802629 91.60209281 55.67113607 50.44711515 55.96837322\n",
      " 81.47723812 70.91751997 55.46431633 74.2388138  66.74739589 82.43560983\n",
      " 52.36304431 59.10208136 57.94205324 38.65673093 70.33016499 69.6989949\n",
      " 65.09204222 60.7774316 ]\n"
     ]
    }
   ],
   "source": [
    "# Generate 50 random values from a normal distribution with mean=65, std=18\n",
    "mu2, sigma2 = 65, 18\n",
    "data2 = np.random.normal(mu2, sigma2, 50)\n",
    "\n",
    "# Print the generated sample\n",
    "print(\"\\nTask 2 - Generated Sample 2:\")\n",
    "print(f\"Mean: {np.mean(data2):.2f}, Standard Deviation: {np.std(data2, ddof=1):.2f}\")\n",
    "print(f\"Generated Data: {data2}\")"
   ]
  },
  {
   "cell_type": "markdown",
   "metadata": {},
   "source": [
    "## **Performing a Two-Sample t-Test to Determine If Means Differ Significantly**\n"
   ]
  },
  {
   "cell_type": "code",
   "execution_count": 11,
   "metadata": {},
   "outputs": [
    {
     "name": "stdout",
     "output_type": "stream",
     "text": [
      "\n",
      "Two-Sample t-Test Results:\n",
      "t-Statistic: -4.11\n",
      "p-Value: 0.0001\n",
      "Reject the null hypothesis: The means of the two samples are significantly different.\n"
     ]
    },
    {
     "data": {
      "image/png": "[encoded data removed]",
      "text/plain": [
       "<Figure size 600x400 with 1 Axes>"
      ]
     },
     "metadata": {},
     "output_type": "display_data"
    }
   ],
   "source": [
    "import scipy.stats as stats\n",
    "import matplotlib.pyplot as plt\n",
    "import numpy as np\n",
    "\n",
    "# Generate two random samples\n",
    "np.random.seed(42)  # For reproducibility\n",
    "data1 = np.random.normal(loc=50, scale=10, size=50)  # Mean=50, Std=10\n",
    "data2 = np.random.normal(loc=55, scale=10, size=50)  # Mean=55, Std=10\n",
    "\n",
    "# Perform a two-sample t-test (Welch's test)\n",
    "t_statistic, p_value = stats.ttest_ind(data1, data2, equal_var=False)\n",
    "\n",
    "# Print results\n",
    "print(\"\\nTwo-Sample t-Test Results:\")\n",
    "print(f\"t-Statistic: {t_statistic:.2f}\")\n",
    "print(f\"p-Value: {p_value:.4f}\")\n",
    "\n",
    "# Hypothesis testing conclusion\n",
    "alpha = 0.05\n",
    "if p_value < alpha:\n",
    "    print(\"Reject the null hypothesis: The means of the two samples are significantly different.\")\n",
    "else:\n",
    "    print(\"Fail to reject the null hypothesis: The means of the two samples are not significantly different.\")\n",
    "\n",
    "# Visualization: Boxplot comparison\n",
    "plt.figure(figsize=(6, 4))\n",
    "plt.boxplot([data1, data2], tick_labels=['Sample 1', 'Sample 2'], patch_artist=True, boxprops=dict(facecolor='lightblue'))\n",
    "plt.title('Comparison of Two Samples')\n",
    "plt.ylabel('Values')\n",
    "plt.grid(True)\n",
    "plt.show()"
   ]
  }
 ],
 "metadata": {
  "kernelspec": {
   "display_name": "Python 3",
   "language": "python",
   "name": "python3"
  },
  "language_info": {
   "codemirror_mode": {
    "name": "ipython",
    "version": 3
   },
   "file_extension": ".py",
   "mimetype": "text/x-python",
   "name": "python",
   "nbconvert_exporter": "python",
   "pygments_lexer": "ipython3",
   "version": "3.12.9"
  }
 },
 "nbformat": 4,
 "nbformat_minor": 2
}
