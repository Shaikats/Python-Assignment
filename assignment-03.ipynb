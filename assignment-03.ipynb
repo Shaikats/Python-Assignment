{
 "cells": [
  {
   "cell_type": "markdown",
   "metadata": {},
   "source": [
    "## **ID: 2215151034**"
   ]
  },
  {
   "cell_type": "markdown",
   "metadata": {},
   "source": [
    "\n",
    "<a href=\"https://github.com/Shaikats/Python-Assignment\" target=\"_blank\" \n",
    "   style=\"display: inline-block; padding: 12px 24px; font-size: 18px; font-weight: bold;\n",
    "          color: white; background-color: #007BFF; text-decoration: none; \n",
    "          border-radius: 8px; transition: all 0.3s ease;\">\n",
    "    🔗 View README & Files\n",
    "</a>\n",
    "\n"
   ]
  },
  {
   "cell_type": "markdown",
   "metadata": {},
   "source": [
    "## **Task 1: Statistical Analysis - Calculating the t-Statistic and p-Value**\n"
   ]
  },
  {
   "cell_type": "code",
   "execution_count": null,
   "metadata": {},
   "outputs": [
    {
     "name": "stdout",
     "output_type": "stream",
     "text": [
      "Task 1 Results:\n",
      "--------------\n",
      "T-statistic: -0.9393\n",
      "P-value: 0.3907\n"
     ]
    }
   ],
   "source": [
    "import numpy as np\n",
    "from scipy import stats\n",
    "\n",
    "# Data\n",
    "data = np.array([5.2, 5.4, 5.1, 5.6, 5.3, 5.8])\n",
    "hypothesized_mean = 5.5\n",
    "\n",
    "# Calculate t-statistic and p-value\n",
    "t_stat, p_value = stats.ttest_1samp(data, hypothesized_mean)\n",
    "\n",
    "\n",
    "print(\"Task 1 Results:\")\n",
    "print(\"--------------\")\n",
    "print(f\"T-statistic: {t_stat:.4f}\")\n",
    "print(f\"P-value: {p_value:.4f}\")"
   ]
  },
  {
   "cell_type": "markdown",
   "metadata": {},
   "source": [
    "## **Task 2: Interpretation & Visualization - Analyzing Results at a 0.05 Significance Level**"
   ]
  },
  {
   "cell_type": "code",
   "execution_count": null,
   "metadata": {},
   "outputs": [],
   "source": []
  }
 ],
 "metadata": {
  "kernelspec": {
   "display_name": "Python 3",
   "language": "python",
   "name": "python3"
  },
  "language_info": {
   "codemirror_mode": {
    "name": "ipython",
    "version": 3
   },
   "file_extension": ".py",
   "mimetype": "text/x-python",
   "name": "python",
   "nbconvert_exporter": "python",
   "pygments_lexer": "ipython3",
   "version": "3.12.9"
  }
 },
 "nbformat": 4,
 "nbformat_minor": 2
}
