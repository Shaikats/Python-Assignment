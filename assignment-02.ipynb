{
 "cells": [
  {
   "cell_type": "markdown",
   "metadata": {},
   "source": [
    "\n",
    "<a href=\"https://github.com/Shaikats/Python-Assignment\" target=\"_blank\" \n",
    "   style=\"display: inline-block; padding: 12px 24px; font-size: 18px; font-weight: bold;\n",
    "          color: white; background-color: #007BFF; text-decoration: none; \n",
    "          border-radius: 8px; transition: all 0.3s ease;\">\n",
    "    🔗 View README & Files\n",
    "</a>\n",
    "\n"
   ]
  },
  {
   "cell_type": "markdown",
   "metadata": {},
   "source": [
    "## **ID: 2215151034**"
   ]
  },
  {
   "cell_type": "markdown",
   "metadata": {},
   "source": [
    "## **Task 1: Create a 3×3 Matrix of Random Integers between 1 and 50**"
   ]
  },
  {
   "cell_type": "code",
   "execution_count": 4,
   "metadata": {},
   "outputs": [
    {
     "name": "stdout",
     "output_type": "stream",
     "text": [
      "Random 3×3 Matrix:\n",
      " [[39 27 31]\n",
      " [44  5 13]\n",
      " [12  8 18]]\n"
     ]
    }
   ],
   "source": [
    "import numpy as np\n",
    "\n",
    "# Generate a 3×3 matrix with random integers between 1 and 50\n",
    "random_matrix = np.random.randint(1, 51, (3, 3))\n",
    "print(\"Random 3×3 Matrix:\\n\", random_matrix)"
   ]
  },
  {
   "cell_type": "markdown",
   "metadata": {},
   "source": [
    "## **Task 2: Run the Code with a Fixed Seed (np.random.seed(10))**"
   ]
  },
  {
   "cell_type": "code",
   "execution_count": 3,
   "metadata": {},
   "outputs": [
    {
     "name": "stdout",
     "output_type": "stream",
     "text": [
      "Matrix with Fixed Seed:\n",
      " [[10 37 16]\n",
      " [ 1 50 29]\n",
      " [26 30 49]]\n"
     ]
    }
   ],
   "source": [
    "# Set seed for reproducibility\n",
    "np.random.seed(10)\n",
    "\n",
    "# Generate a 3×3 matrix with random integers between 1 and 50\n",
    "seeded_matrix = np.random.randint(1, 51, (3, 3))\n",
    "print(\"Matrix with Fixed Seed:\\n\", seeded_matrix)\n"
   ]
  },
  {
   "cell_type": "markdown",
   "metadata": {},
   "source": [
    "## **Task 3: Run the Code Without a Seed (Random Values Every Time)**"
   ]
  },
  {
   "cell_type": "code",
   "execution_count": 5,
   "metadata": {},
   "outputs": [
    {
     "name": "stdout",
     "output_type": "stream",
     "text": [
      "Matrix Without Seed (Changes Each Run):\n",
      " [[30 50  9]\n",
      " [10  1 43]\n",
      " [41 37 17]]\n"
     ]
    }
   ],
   "source": [
    "# No seed set, so values will change each time the code runs\n",
    "non_seeded_matrix = np.random.randint(1, 51, (3, 3))\n",
    "print(\"Matrix Without Seed (Changes Each Run):\\n\", non_seeded_matrix)"
   ]
  },
  {
   "cell_type": "markdown",
   "metadata": {},
   "source": [
    "## Explanation of Differences\n",
    "\n",
    "### With a Fixed Seed (`np.random.seed(10)`)\n",
    "- The **same matrix** is generated every time the code runs.\n",
    "- Ensures **consistency**, making it useful for **debugging** and **reproducibility**.\n",
    "- Helps in research and testing where repeatable results are needed.\n",
    "\n",
    "### Without a Seed (`np.random.seed(None)`)\n",
    "- The **matrix values change** each time the code runs.\n",
    "- Useful for scenarios requiring **unpredictability**, such as **simulations** or **randomized experiments**.\n",
    "- Provides variation in results, making it ideal for testing different possibilities."
   ]
  }
 ],
 "metadata": {
  "kernelspec": {
   "display_name": "Python 3",
   "language": "python",
   "name": "python3"
  },
  "language_info": {
   "codemirror_mode": {
    "name": "ipython",
    "version": 3
   },
   "file_extension": ".py",
   "mimetype": "text/x-python",
   "name": "python",
   "nbconvert_exporter": "python",
   "pygments_lexer": "ipython3",
   "version": "3.12.9"
  }
 },
 "nbformat": 4,
 "nbformat_minor": 2
}
